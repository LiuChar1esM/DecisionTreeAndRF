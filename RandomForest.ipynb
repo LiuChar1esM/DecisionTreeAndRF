{
 "cells": [
  {
   "cell_type": "code",
   "execution_count": 30,
   "metadata": {},
   "outputs": [],
   "source": [
    "import DecisionTreeR\n",
    "import DecisionTreeLR\n",
    "import numpy as np\n",
    "import pandas as pd"
   ]
  },
  {
   "cell_type": "code",
   "execution_count": 62,
   "metadata": {},
   "outputs": [],
   "source": [
    "class RF():\n",
    "    def __init__(self,n_estimators=None,estimators = [], max_depth=None,min_sample_split=None):\n",
    "        self.n_estimators = n_estimators\n",
    "        self.estimators = estimators\n",
    "        self.max_depth = max_depth\n",
    "        self.min_sample_split = min_sample_split\n",
    "    \n",
    "    #测试集只有单条的预测\n",
    "    def predict_single(self,treenode,test):\n",
    "        if treenode.is_leaf:\n",
    "            return treenode.score\n",
    "        else:\n",
    "            #测试集当前节点特征的值小于域值，向训练好的treenode左子树查找\n",
    "            if test[treenode.feature]<treenode.threshold:\n",
    "                return self.predict_single(treenode.left,test)\n",
    "            else:\n",
    "                return self.predict_single(treenode.right,test)\n",
    "    \n",
    "    #测试集多条特征预测\n",
    "    def predict(self,test):\n",
    "        result = []\n",
    "        for i in test:\n",
    "            single_result = []\n",
    "            for estimator in self.estimators:\n",
    "                single_result.append(self.predict_single(estimator,i))\n",
    "            result.append(np.mean(single_result))\n",
    "        return result\n",
    "    \n",
    "    def fit(self,train,label):\n",
    "        print(type(self.construct_forest(train,label,depth_left = self.max_depth)))\n",
    "        self.estimators = self.construct_forest(train,label,depth_left = self.max_depth)\n",
    "        \n",
    "    #构建随机森林\n",
    "    def construct_forest(self,train,label,depth_left):\n",
    "        tree_nodes = []\n",
    "        #随机森林终止条件,决策树数量>n_estimator\n",
    "        for i in range(self.n_estimators):\n",
    "            tree = DecisionTreeR.Tree(max_depth = depth_left,\n",
    "                                  min_sample_split = self.min_sample_split,\n",
    "                                  gamma = 0)\n",
    "            retrain = self.bootstrap(train)\n",
    "            retrain = self.refeature(retrain)\n",
    "            tree.fit(retrain,label)\n",
    "            print(tree.estimator)\n",
    "            tree_nodes.append(tree.estimator)\n",
    "            print(type(tree_nodes))\n",
    "        return tree_nodes\n",
    "    \n",
    "    #随机样本(Bootstrap),有放回得抽取与train样本数量相同的样本\n",
    "    def bootstrap(self,train):\n",
    "        index = np.random.choice(range(len(train)),size = len(train) ,replace = True)\n",
    "        resample = train[index]\n",
    "        return resample\n",
    "    \n",
    "    #随机特征，从n个特征中无放回得随机抽取根号n个特征\n",
    "    def refeature(self,train):\n",
    "        #print(int(np.sqrt(len(train[0]))))\n",
    "        index = np.random.choice(range(len(train[0])),\n",
    "                size = int(np.sqrt(len(train[0]))) ,replace = False)\n",
    "        return train[:,index]"
   ]
  },
  {
   "cell_type": "code",
   "execution_count": 63,
   "metadata": {},
   "outputs": [],
   "source": [
    "def bootstrap(train):\n",
    "    #print(range(len(train)))\n",
    "    index = np.random.choice(range(len(train)),size = len(train) ,replace = True)\n",
    "    resample = train[index]\n",
    "    return resample\n",
    "\n",
    "def refeature(train):\n",
    "    #print(int(np.sqrt(len(train[0]))))\n",
    "    index = np.random.choice(range(len(train[0])),\n",
    "            size = int(np.sqrt(len(train[0]))) ,replace = False)\n",
    "    return train[:,index]"
   ]
  },
  {
   "cell_type": "code",
   "execution_count": 64,
   "metadata": {},
   "outputs": [],
   "source": [
    "train = np.array(\n",
    "[\n",
    "    [1,3,1,3,1],\n",
    "    [1,1,2,1,3],\n",
    "    [1,2,2,1,3],\n",
    "    [1,2,1,1,1],\n",
    "    [2,1,1,2,2],\n",
    "    [3,2,2,3,1],\n",
    "    [3,2,1,2,3],\n",
    "    [3,1,3,1,1]\n",
    "])\n",
    "label =  np.array(\n",
    "[6,3,2,3,4,2,2,2]\n",
    ")"
   ]
  },
  {
   "cell_type": "code",
   "execution_count": 65,
   "metadata": {},
   "outputs": [
    {
     "data": {
      "text/plain": [
       "False"
      ]
     },
     "execution_count": 65,
     "metadata": {},
     "output_type": "execute_result"
    }
   ],
   "source": [
    "tree = DecisionTreeR.Tree(max_depth=100,min_sample_split=1,gamma=0)\n",
    "tree.fit(train,label)\n",
    "tree.estimator.is_leaf"
   ]
  },
  {
   "cell_type": "code",
   "execution_count": 69,
   "metadata": {
    "collapsed": true
   },
   "outputs": [
    {
     "name": "stdout",
     "output_type": "stream",
     "text": [
      "<DecisionTreeR.TreeNode object at 0x000001B2A7C60518>\n",
      "<class 'list'>\n",
      "<DecisionTreeR.TreeNode object at 0x000001B2A7AD3DA0>\n",
      "<class 'list'>\n",
      "<DecisionTreeR.TreeNode object at 0x000001B2A7D49898>\n",
      "<class 'list'>\n",
      "<DecisionTreeR.TreeNode object at 0x000001B2A7CCAB00>\n",
      "<class 'list'>\n",
      "<DecisionTreeR.TreeNode object at 0x000001B2A7CCAC18>\n",
      "<class 'list'>\n",
      "<DecisionTreeR.TreeNode object at 0x000001B2A7B80400>\n",
      "<class 'list'>\n",
      "<DecisionTreeR.TreeNode object at 0x000001B2A7B80C88>\n",
      "<class 'list'>\n",
      "<DecisionTreeR.TreeNode object at 0x000001B2A7D84390>\n",
      "<class 'list'>\n",
      "<DecisionTreeR.TreeNode object at 0x000001B2A7B80D68>\n",
      "<class 'list'>\n",
      "<DecisionTreeR.TreeNode object at 0x000001B2A7C4E780>\n",
      "<class 'list'>\n",
      "<class 'list'>\n",
      "<DecisionTreeR.TreeNode object at 0x000001B2A7CC2B38>\n",
      "<class 'list'>\n",
      "<DecisionTreeR.TreeNode object at 0x000001B2A7CC4748>\n",
      "<class 'list'>\n",
      "<DecisionTreeR.TreeNode object at 0x000001B2A7B800F0>\n",
      "<class 'list'>\n",
      "<DecisionTreeR.TreeNode object at 0x000001B2A7B801D0>\n",
      "<class 'list'>\n",
      "<DecisionTreeR.TreeNode object at 0x000001B2A7B804E0>\n",
      "<class 'list'>\n",
      "<DecisionTreeR.TreeNode object at 0x000001B2A7BD0668>\n",
      "<class 'list'>\n",
      "<DecisionTreeR.TreeNode object at 0x000001B2A7C4E4E0>\n",
      "<class 'list'>\n",
      "<DecisionTreeR.TreeNode object at 0x000001B2A7D3A080>\n",
      "<class 'list'>\n",
      "<DecisionTreeR.TreeNode object at 0x000001B2A7D3A128>\n",
      "<class 'list'>\n",
      "<DecisionTreeR.TreeNode object at 0x000001B2A7D3A0F0>\n",
      "<class 'list'>\n"
     ]
    },
    {
     "data": {
      "text/plain": [
       "False"
      ]
     },
     "execution_count": 69,
     "metadata": {},
     "output_type": "execute_result"
    }
   ],
   "source": [
    "#bootstrap(train)\n",
    "#refeature(train)\n",
    "forest = RF(n_estimators=10,max_depth=10,min_sample_split=1)\n",
    "forest.fit(train,label)\n",
    "forest.estimators[0].left.is_leaf"
   ]
  },
  {
   "cell_type": "code",
   "execution_count": 70,
   "metadata": {},
   "outputs": [
    {
     "data": {
      "text/plain": [
       "[3.208333333333333, 2.783333333333333]"
      ]
     },
     "execution_count": 70,
     "metadata": {},
     "output_type": "execute_result"
    }
   ],
   "source": [
    "forest.predict([\n",
    "    [1,3,1,3,1],\n",
    "    [1,1,2,1,3]\n",
    "])"
   ]
  },
  {
   "cell_type": "code",
   "execution_count": null,
   "metadata": {},
   "outputs": [],
   "source": []
  }
 ],
 "metadata": {
  "kernelspec": {
   "display_name": "python3.7",
   "language": "python",
   "name": "python3.7"
  },
  "language_info": {
   "codemirror_mode": {
    "name": "ipython",
    "version": 3
   },
   "file_extension": ".py",
   "mimetype": "text/x-python",
   "name": "python",
   "nbconvert_exporter": "python",
   "pygments_lexer": "ipython3",
   "version": "3.7.3"
  }
 },
 "nbformat": 4,
 "nbformat_minor": 2
}
